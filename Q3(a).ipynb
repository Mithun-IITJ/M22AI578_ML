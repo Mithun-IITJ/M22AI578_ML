{
 "cells": [
  {
   "cell_type": "code",
   "execution_count": 74,
   "metadata": {
    "id": "cExrd_w3DEAy"
   },
   "outputs": [],
   "source": [
    "import numpy as np\n",
    "import tensorflow as tf\n",
    "from tensorflow import keras\n",
    "from keras.models import Sequential\n",
    "import pandas as pd\n",
    "from matplotlib import pyplot as plt\n",
    "%matplotlib inline\n",
    "import os\n",
    "import cv2\n",
    "from keras.layers import Dense, Conv2D, MaxPooling2D, Flatten,GlobalAveragePooling2D\n",
    "from PIL import Image\n",
    "from sklearn.preprocessing import LabelEncoder\n",
    "from sklearn.metrics import confusion_matrix, classification_report\n",
    "from keras.applications import VGG16\n",
    "from keras.preprocessing.image import ImageDataGenerator"
   ]
  },
  {
   "cell_type": "code",
   "execution_count": 24,
   "metadata": {
    "colab": {
     "base_uri": "https://localhost:8080/"
    },
    "id": "UbxFvMIrEYZF",
    "outputId": "7f1dbdc8-bffa-4801-9df7-79900d4f18ee"
   },
   "outputs": [
    {
     "name": "stdout",
     "output_type": "stream",
     "text": [
      "Drive already mounted at /content/drive; to attempt to forcibly remount, call drive.mount(\"/content/drive\", force_remount=True).\n"
     ]
    }
   ],
   "source": [
    "from google.colab import drive\n",
    "drive.mount('/content/drive')"
   ]
  },
  {
   "cell_type": "code",
   "execution_count": 25,
   "metadata": {
    "id": "l5JMGGSGDPaG"
   },
   "outputs": [],
   "source": [
    "# Define the paths to your image and csv folders\n",
    "trainValdDir = \"/content/drive/MyDrive/Colab Notebooks/charts/charts/train_val\"\n",
    "testDr = \"/content/drive/MyDrive/Colab Notebooks/charts/charts/test\"\n",
    "trainPathLab = \"/content/drive/MyDrive/Colab Notebooks/charts/charts/train_val.csv\"\n",
    "trainValdLab = pd.read_csv(trainPathLab)"
   ]
  },
  {
   "cell_type": "code",
   "execution_count": 26,
   "metadata": {
    "id": "PjcVInuJDZjF"
   },
   "outputs": [],
   "source": [
    "# load training dataset in numpy array\n",
    "images = []\n",
    "labels = []\n",
    "for filename in os.listdir(trainValdDir):\n",
    " if filename.endswith('.png'):\n",
    " # Load the images and resize them to (128, 128) with 3 color channels\n",
    "  img = cv2.imread(os.path.join(trainValdDir, filename))\n",
    "  img = cv2.resize(img, (128, 128))\n",
    "  img = cv2.cvtColor(img, cv2.COLOR_BGR2RGB)\n",
    "\n",
    "# img = Image.open(os.path.join(trainValdDir, filename))\n",
    "  imageArr = np.array(img)\n",
    " # Append the array to the list of images\n",
    "  images.append(imageArr)\n",
    "  labels.append(filename)\n",
    "\n",
    "# Convert the string labels to numerical labels\n",
    "le = LabelEncoder()\n",
    "labels = le.fit_transform(labels)\n",
    "# Convert the lists to NumPy arrays\n",
    "images = np.array(images)\n",
    "labels = np.array(labels)\n",
    "# Save the arrays in NumPy format\n",
    "np.save('x_train.npy', images)\n",
    "np.save('y_train.npy', labels)\n",
    "x_train = np.load('x_train.npy')\n",
    "y_train = np.load('y_train.npy')"
   ]
  },
  {
   "cell_type": "code",
   "execution_count": 27,
   "metadata": {
    "colab": {
     "base_uri": "https://localhost:8080/"
    },
    "id": "fA10dWWuDpSd",
    "outputId": "7a5ebc97-c744-49e5-af4f-7cc639e9555d"
   },
   "outputs": [
    {
     "data": {
      "text/plain": [
       "(1000, 128, 128, 3)"
      ]
     },
     "execution_count": 27,
     "metadata": {},
     "output_type": "execute_result"
    }
   ],
   "source": [
    "x_train.shape"
   ]
  },
  {
   "cell_type": "code",
   "execution_count": 28,
   "metadata": {
    "colab": {
     "base_uri": "https://localhost:8080/"
    },
    "id": "aGBVwVxgDrDG",
    "outputId": "4b68189f-509c-4da0-d32d-760d2207a440"
   },
   "outputs": [
    {
     "data": {
      "text/plain": [
       "array([10,  8,  9,  7,  2])"
      ]
     },
     "execution_count": 28,
     "metadata": {},
     "output_type": "execute_result"
    }
   ],
   "source": [
    "x_train[:5]\n",
    "y_train[:5]"
   ]
  },
  {
   "cell_type": "code",
   "execution_count": 29,
   "metadata": {
    "id": "TO1XPqVbDvxe"
   },
   "outputs": [],
   "source": [
    "# load test dataset in numpy array\n",
    "images = []\n",
    "labels = []\n",
    "for filename in os.listdir(testDr):\n",
    " if filename.endswith('.png'):\n",
    " # Load the images and resize them to (128, 128) with 3 color channels\n",
    "  img = cv2.imread(os.path.join(testDr, filename))\n",
    "  img = cv2.resize(img, (128, 128))\n",
    "  img = cv2.cvtColor(img, cv2.COLOR_BGR2RGB)\n",
    "\n",
    "# img = Image.open(os.path.join(testDr, filename))\n",
    "  imageArr = np.array(img)\n",
    " # Append the array to the list of images\n",
    "  images.append(imageArr)\n",
    "  labels.append(filename)\n",
    "# Convert the string labels to numerical labels\n",
    "le = LabelEncoder()\n",
    "labels = le.fit_transform(labels)\n",
    "\n",
    "# Convert the lists to NumPy arrays"
   ]
  },
  {
   "cell_type": "code",
   "execution_count": 30,
   "metadata": {
    "id": "v4hAf6_wDyD4"
   },
   "outputs": [],
   "source": [
    "images = np.array(images)\n",
    "labels = np.array(labels)\n",
    "# Save the arrays in NumPy format\n",
    "np.save('x_test.npy', images)\n",
    "np.save('y_test.npy', labels)\n",
    "x_test = np.load('x_test.npy')\n",
    "y_test = np.load('y_test.npy')"
   ]
  },
  {
   "cell_type": "code",
   "execution_count": 31,
   "metadata": {
    "colab": {
     "base_uri": "https://localhost:8080/"
    },
    "id": "n4JTqCvjD0af",
    "outputId": "465cd24d-be53-4282-d7ce-68499eb30990"
   },
   "outputs": [
    {
     "data": {
      "text/plain": [
       "(50, 128, 128, 3)"
      ]
     },
     "execution_count": 31,
     "metadata": {},
     "output_type": "execute_result"
    }
   ],
   "source": [
    "x_test.shape"
   ]
  },
  {
   "cell_type": "code",
   "execution_count": 32,
   "metadata": {
    "colab": {
     "base_uri": "https://localhost:8080/",
     "height": 236
    },
    "id": "wRQQ1rn7D242",
    "outputId": "5ae28d21-d797-41a3-8aa1-3c4678c52ae1"
   },
   "outputs": [
    {
     "data": {
      "text/plain": [
       "<matplotlib.image.AxesImage at 0x7f2ed2a864a0>"
      ]
     },
     "execution_count": 32,
     "metadata": {},
     "output_type": "execute_result"
    },
    {
     "data": {
      "image/png": "[encoded data removed]",
      "text/plain": [
       "<Figure size 1000x200 with 1 Axes>"
      ]
     },
     "metadata": {},
     "output_type": "display_data"
    }
   ],
   "source": [
    "# check the images loaded\n",
    "plt.figure(figsize = (10,2))\n",
    "plt.imshow(x_train[10])\n",
    "plt.imshow(x_train[208])\n",
    "plt.imshow(x_train[444])"
   ]
  },
  {
   "cell_type": "code",
   "execution_count": 33,
   "metadata": {
    "id": "_X-CyNDUD-Cm"
   },
   "outputs": [],
   "source": [
    "# define some classes from the images we have observed\n",
    "image_classes = ['line', 'dot_line', 'hbar_categorical', 'vbar_categorical', 'pie']\n",
    "image_classes[0]\n",
    "# map the categories to the labels array i.e y_train\n",
    "label_map = {'line': 0, 'dot_line': 1, 'hbar_categorical': 2, 'vbar_categorical': 3, 'pie': 4}\n",
    "y_train = np.array([label_map[label] for label in trainValdLab['type']])"
   ]
  },
  {
   "cell_type": "code",
   "execution_count": 34,
   "metadata": {
    "colab": {
     "base_uri": "https://localhost:8080/"
    },
    "id": "Bq5QcQiKD_94",
    "outputId": "37dbfa90-118c-4647-cea9-a391ac6536d8"
   },
   "outputs": [
    {
     "data": {
      "text/plain": [
       "(50,)"
      ]
     },
     "execution_count": 34,
     "metadata": {},
     "output_type": "execute_result"
    }
   ],
   "source": [
    "y_train\n",
    "y_train.shape\n",
    "y_test.shape"
   ]
  },
  {
   "cell_type": "code",
   "execution_count": 35,
   "metadata": {
    "id": "jYuoIhRwECNm"
   },
   "outputs": [],
   "source": [
    "# we need to map the lables from csv to the images somehow\n",
    "# function to test the chart sample\n",
    "def image_sample(x, y, index):\n",
    " plt.figure(figsize = (10,2))\n",
    " plt.imshow(x[index])\n",
    "# image_label = trainValdLab.iloc[index]['type']\n",
    "# plt.xlabel(image_label)\n",
    " plt.xlabel(image_classes[y[index]])"
   ]
  },
  {
   "cell_type": "code",
   "execution_count": 36,
   "metadata": {
    "colab": {
     "base_uri": "https://localhost:8080/",
     "height": 683
    },
    "id": "3IONo5LfED4_",
    "outputId": "501f839a-e460-4228-f102-1f1dcb17b9f5"
   },
   "outputs": [
    {
     "data": {
      "image/png": "[encoded data removed]",
      "text/plain": [
       "<Figure size 1000x200 with 1 Axes>"
      ]
     },
     "metadata": {},
     "output_type": "display_data"
    },
    {
     "data": {
      "image/png": "[encoded data removed]",
      "text/plain": [
       "<Figure size 1000x200 with 1 Axes>"
      ]
     },
     "metadata": {},
     "output_type": "display_data"
    },
    {
     "data": {
      "image/png": "[encoded data removed]",
      "text/plain": [
       "<Figure size 1000x200 with 1 Axes>"
      ]
     },
     "metadata": {},
     "output_type": "display_data"
    }
   ],
   "source": [
    "image_sample(x_train,y_train,0)\n",
    "image_sample(x_train,y_train,208)\n",
    "image_sample(x_train,y_train,444)"
   ]
  },
  {
   "cell_type": "code",
   "execution_count": 37,
   "metadata": {
    "id": "o71cDS8XEGVI"
   },
   "outputs": [],
   "source": [
    "# now we have mapped the corresponding labels to the image"
   ]
  },
  {
   "cell_type": "code",
   "execution_count": 38,
   "metadata": {
    "id": "1bS-CK1GEH5g"
   },
   "outputs": [],
   "source": [
    "# normalize the image\n",
    "# x_train[0]/255\n",
    "x_train=x_train /255\n",
    "x_test=x_train /255"
   ]
  },
  {
   "cell_type": "code",
   "execution_count": 39,
   "metadata": {
    "colab": {
     "base_uri": "https://localhost:8080/"
    },
    "id": "PjXfZuzkEJXX",
    "outputId": "63201a39-f501-43f9-c144-3971a5d8a9dd"
   },
   "outputs": [
    {
     "data": {
      "text/plain": [
       "(1000, 128, 128, 3)"
      ]
     },
     "execution_count": 39,
     "metadata": {},
     "output_type": "execute_result"
    }
   ],
   "source": [
    "\n",
    "x_test.shape"
   ]
  },
  {
   "cell_type": "code",
   "execution_count": 40,
   "metadata": {
    "id": "lydQPpw3EK7Y"
   },
   "outputs": [],
   "source": [
    "# take the label for train data from csv file\n",
    "yTrainInd = trainValdLab['image_index']\n",
    "y_train_type = trainValdLab['type']"
   ]
  },
  {
   "cell_type": "code",
   "execution_count": 41,
   "metadata": {
    "colab": {
     "base_uri": "https://localhost:8080/"
    },
    "id": "N3ZWh9xNEMkx",
    "outputId": "803c187f-b12d-4642-e6bd-705608bf46b6"
   },
   "outputs": [
    {
     "data": {
      "text/plain": [
       "0    vbar_categorical\n",
       "1    vbar_categorical\n",
       "2    vbar_categorical\n",
       "3    vbar_categorical\n",
       "4    vbar_categorical\n",
       "Name: type, dtype: object"
      ]
     },
     "execution_count": 41,
     "metadata": {},
     "output_type": "execute_result"
    }
   ],
   "source": [
    "y_train_type[:5]"
   ]
  },
  {
   "cell_type": "code",
   "execution_count": 42,
   "metadata": {
    "colab": {
     "base_uri": "https://localhost:8080/"
    },
    "id": "JX6kBRptEOXf",
    "outputId": "7bfd4aa8-f011-4113-a062-685bcfa7f24c"
   },
   "outputs": [
    {
     "name": "stdout",
     "output_type": "stream",
     "text": [
      "Epoch 1/10\n",
      "32/32 [==============================] - 43s 1s/step - loss: 5.8155 - accuracy: 0.2200\n",
      "Epoch 2/10\n",
      "32/32 [==============================] - 34s 1s/step - loss: 1.6161 - accuracy: 0.2200\n",
      "Epoch 3/10\n",
      "32/32 [==============================] - 33s 1s/step - loss: 1.6080 - accuracy: 0.2380\n",
      "Epoch 4/10\n",
      "32/32 [==============================] - 35s 1s/step - loss: 1.5730 - accuracy: 0.2700\n",
      "Epoch 5/10\n",
      "32/32 [==============================] - 35s 1s/step - loss: 1.5674 - accuracy: 0.2720\n",
      "Epoch 6/10\n",
      "32/32 [==============================] - 33s 1s/step - loss: 1.5726 - accuracy: 0.2290\n",
      "Epoch 7/10\n",
      "32/32 [==============================] - 37s 1s/step - loss: 1.5907 - accuracy: 0.2380\n",
      "Epoch 8/10\n",
      "32/32 [==============================] - 33s 1s/step - loss: 1.6066 - accuracy: 0.2460\n",
      "Epoch 9/10\n",
      "32/32 [==============================] - 33s 1s/step - loss: 1.5877 - accuracy: 0.2480\n",
      "Epoch 10/10\n",
      "32/32 [==============================] - 35s 1s/step - loss: 1.5760 - accuracy: 0.2580\n"
     ]
    },
    {
     "data": {
      "text/plain": [
       "<keras.callbacks.History at 0x7f2e3c1e9db0>"
      ]
     },
     "execution_count": 42,
     "metadata": {},
     "output_type": "execute_result"
    }
   ],
   "source": [
    "# writing a simple nn to test first\n",
    "# Define the model architecture\n",
    "model = Sequential([\n",
    " Flatten(input_shape=(128,128,3)),\n",
    " Dense(3000, activation='relu'),\n",
    " Dense(1000, activation='relu'),\n",
    " Dense(5, activation='softmax')\n",
    "])\n",
    "# Compile the model\n",
    "model.compile(optimizer='SGD', loss='sparse_categorical_crossentropy', metrics=['accuracy'])\n",
    "model.fit(x_train,y_train,epochs=10)"
   ]
  },
  {
   "cell_type": "code",
   "execution_count": 43,
   "metadata": {
    "id": "gmk8Wzq1EQof"
   },
   "outputs": [],
   "source": [
    "# Split the training images and labels into training and validation sets\n",
    "from sklearn.model_selection import train_test_split\n",
    "x_train, x_test, y_train, y_test = train_test_split(x_train, y_train, test_size=0.2, random_state=42)"
   ]
  },
  {
   "cell_type": "code",
   "execution_count": 44,
   "metadata": {
    "colab": {
     "base_uri": "https://localhost:8080/"
    },
    "id": "qs2cY_lRETGv",
    "outputId": "e27c3c82-2581-43a0-e1bd-bc9463fda95f"
   },
   "outputs": [
    {
     "name": "stdout",
     "output_type": "stream",
     "text": [
      "7/7 [==============================] - 2s 254ms/step - loss: 1.5962 - accuracy: 0.1900\n"
     ]
    },
    {
     "data": {
      "text/plain": [
       "[1.5962469577789307, 0.1899999976158142]"
      ]
     },
     "execution_count": 44,
     "metadata": {},
     "output_type": "execute_result"
    }
   ],
   "source": [
    "model.evaluate(x_test,y_test)\n"
   ]
  },
  {
   "cell_type": "code",
   "execution_count": 45,
   "metadata": {
    "colab": {
     "base_uri": "https://localhost:8080/"
    },
    "id": "wW-9UmryEU0L",
    "outputId": "8f12a8f2-c5e7-44cf-a4a2-3f1640454c01"
   },
   "outputs": [
    {
     "name": "stdout",
     "output_type": "stream",
     "text": [
      "7/7 [==============================] - 2s 252ms/step\n"
     ]
    }
   ],
   "source": [
    "y_pred = model.predict(x_test)\n",
    "y_pred\n",
    "yPredictClass = [np.argmax(ele) for ele in y_pred]\n",
    "# print(\"classificaton report : \\n\",classification_report(y_test,yPredictClass))"
   ]
  },
  {
   "cell_type": "code",
   "execution_count": 46,
   "metadata": {
    "id": "l9TKqsaTEWgn"
   },
   "outputs": [],
   "source": [
    "# here we see the accuracy is very low and we need to modify our nn to add more layers for better accuracy"
   ]
  },
  {
   "cell_type": "code",
   "execution_count": 47,
   "metadata": {
    "colab": {
     "base_uri": "https://localhost:8080/"
    },
    "id": "uG1FynrkEYC_",
    "outputId": "1253fdf3-1e76-47c1-a0d5-5cd811c25b4c"
   },
   "outputs": [
    {
     "name": "stdout",
     "output_type": "stream",
     "text": [
      "Train Images Shape: (800, 128, 128, 3)\n",
      "Train Labels Shape: (800,)\n",
      "Test Images Shape: (200, 128, 128, 3)\n",
      "Test Labels Shape: (200,)\n"
     ]
    }
   ],
   "source": [
    "# Print the shapes of the arrays to verify that they loaded correctly\n",
    "print(\"Train Images Shape:\", x_train.shape)\n",
    "print(\"Train Labels Shape:\", y_train.shape)\n",
    "print(\"Test Images Shape:\", x_test.shape)\n",
    "print(\"Test Labels Shape:\", y_test.shape)"
   ]
  },
  {
   "cell_type": "code",
   "execution_count": 48,
   "metadata": {
    "colab": {
     "base_uri": "https://localhost:8080/",
     "height": 1000
    },
    "id": "DeVOo8AtEacH",
    "outputId": "c8570037-613f-4bbb-ba86-0bebfc0fe5cf"
   },
   "outputs": [
    {
     "name": "stdout",
     "output_type": "stream",
     "text": [
      "Epoch 1/50\n",
      "1/1 [==============================] - 19s 19s/step - loss: 1.6113 - accuracy: 0.2225 - val_loss: 2.5355 - val_accuracy: 0.1850\n",
      "Epoch 2/50\n",
      "1/1 [==============================] - 15s 15s/step - loss: 2.3123 - accuracy: 0.2037 - val_loss: 1.8197 - val_accuracy: 0.1850\n",
      "Epoch 3/50\n",
      "1/1 [==============================] - 15s 15s/step - loss: 1.7259 - accuracy: 0.2425 - val_loss: 1.5777 - val_accuracy: 0.1850\n",
      "Epoch 4/50\n",
      "1/1 [==============================] - 16s 16s/step - loss: 1.5701 - accuracy: 0.2450 - val_loss: 1.5455 - val_accuracy: 0.4900\n",
      "Epoch 5/50\n",
      "1/1 [==============================] - 15s 15s/step - loss: 1.5561 - accuracy: 0.4275 - val_loss: 1.5237 - val_accuracy: 0.3850\n",
      "Epoch 6/50\n",
      "1/1 [==============================] - 18s 18s/step - loss: 1.5329 - accuracy: 0.3250 - val_loss: 1.4974 - val_accuracy: 0.3650\n",
      "Epoch 7/50\n",
      "1/1 [==============================] - 16s 16s/step - loss: 1.4911 - accuracy: 0.4062 - val_loss: 1.5315 - val_accuracy: 0.2400\n",
      "Epoch 8/50\n",
      "1/1 [==============================] - 15s 15s/step - loss: 1.4935 - accuracy: 0.2575 - val_loss: 1.4520 - val_accuracy: 0.2800\n",
      "Epoch 9/50\n",
      "1/1 [==============================] - 16s 16s/step - loss: 1.4195 - accuracy: 0.3425 - val_loss: 1.3811 - val_accuracy: 0.4250\n",
      "Epoch 10/50\n",
      "1/1 [==============================] - 15s 15s/step - loss: 1.3600 - accuracy: 0.5000 - val_loss: 1.3346 - val_accuracy: 0.4600\n",
      "Epoch 11/50\n",
      "1/1 [==============================] - 15s 15s/step - loss: 1.3094 - accuracy: 0.5188 - val_loss: 1.3153 - val_accuracy: 0.4550\n",
      "Epoch 12/50\n",
      "1/1 [==============================] - 16s 16s/step - loss: 1.2651 - accuracy: 0.5250 - val_loss: 1.2638 - val_accuracy: 0.5750\n",
      "Epoch 13/50\n",
      "1/1 [==============================] - 15s 15s/step - loss: 1.2155 - accuracy: 0.6425 - val_loss: 1.2220 - val_accuracy: 0.5250\n",
      "Epoch 14/50\n",
      "1/1 [==============================] - 16s 16s/step - loss: 1.1769 - accuracy: 0.5813 - val_loss: 1.1760 - val_accuracy: 0.5800\n",
      "Epoch 15/50\n",
      "1/1 [==============================] - 16s 16s/step - loss: 1.1321 - accuracy: 0.5838 - val_loss: 1.1396 - val_accuracy: 0.5900\n",
      "Epoch 16/50\n",
      "1/1 [==============================] - 15s 15s/step - loss: 1.0944 - accuracy: 0.5688 - val_loss: 1.0906 - val_accuracy: 0.6000\n",
      "Epoch 17/50\n",
      "1/1 [==============================] - 22s 22s/step - loss: 1.0614 - accuracy: 0.5663 - val_loss: 1.0638 - val_accuracy: 0.5900\n",
      "Epoch 18/50\n",
      "1/1 [==============================] - 17s 17s/step - loss: 1.0299 - accuracy: 0.5788 - val_loss: 1.0813 - val_accuracy: 0.5750\n",
      "Epoch 19/50\n",
      "1/1 [==============================] - 15s 15s/step - loss: 1.0174 - accuracy: 0.5875 - val_loss: 1.0238 - val_accuracy: 0.5850\n",
      "Epoch 20/50\n",
      "1/1 [==============================] - 15s 15s/step - loss: 0.9868 - accuracy: 0.5863 - val_loss: 1.0245 - val_accuracy: 0.6000\n",
      "Epoch 21/50\n",
      "1/1 [==============================] - 15s 15s/step - loss: 0.9562 - accuracy: 0.5888 - val_loss: 1.0555 - val_accuracy: 0.5800\n",
      "Epoch 22/50\n",
      "1/1 [==============================] - 15s 15s/step - loss: 0.9326 - accuracy: 0.5987 - val_loss: 1.0452 - val_accuracy: 0.6000\n",
      "Epoch 23/50\n",
      "1/1 [==============================] - 18s 18s/step - loss: 0.9098 - accuracy: 0.6450 - val_loss: 1.0186 - val_accuracy: 0.6250\n",
      "Epoch 24/50\n",
      "1/1 [==============================] - 16s 16s/step - loss: 0.8898 - accuracy: 0.6988 - val_loss: 1.0122 - val_accuracy: 0.6150\n",
      "Epoch 25/50\n",
      "1/1 [==============================] - 15s 15s/step - loss: 0.8680 - accuracy: 0.7075 - val_loss: 1.0327 - val_accuracy: 0.6200\n",
      "Epoch 26/50\n",
      "1/1 [==============================] - 16s 16s/step - loss: 0.8440 - accuracy: 0.6900 - val_loss: 1.0320 - val_accuracy: 0.6050\n",
      "Epoch 27/50\n",
      "1/1 [==============================] - 18s 18s/step - loss: 0.8236 - accuracy: 0.6825 - val_loss: 0.9908 - val_accuracy: 0.6050\n",
      "Epoch 28/50\n",
      "1/1 [==============================] - 16s 16s/step - loss: 0.7978 - accuracy: 0.7113 - val_loss: 0.9889 - val_accuracy: 0.6150\n",
      "Epoch 29/50\n",
      "1/1 [==============================] - 15s 15s/step - loss: 0.7732 - accuracy: 0.7275 - val_loss: 1.0305 - val_accuracy: 0.6300\n",
      "Epoch 30/50\n",
      "1/1 [==============================] - 15s 15s/step - loss: 0.7483 - accuracy: 0.7163 - val_loss: 1.0462 - val_accuracy: 0.6100\n",
      "Epoch 31/50\n",
      "1/1 [==============================] - 17s 17s/step - loss: 0.7241 - accuracy: 0.7350 - val_loss: 1.0420 - val_accuracy: 0.6200\n",
      "Epoch 32/50\n",
      "1/1 [==============================] - 16s 16s/step - loss: 0.7006 - accuracy: 0.7513 - val_loss: 1.0550 - val_accuracy: 0.6050\n",
      "Epoch 33/50\n",
      "1/1 [==============================] - 15s 15s/step - loss: 0.6819 - accuracy: 0.7437 - val_loss: 1.0438 - val_accuracy: 0.6250\n",
      "Epoch 34/50\n",
      "1/1 [==============================] - 16s 16s/step - loss: 0.6717 - accuracy: 0.7538 - val_loss: 1.0767 - val_accuracy: 0.6250\n",
      "Epoch 35/50\n",
      "1/1 [==============================] - 16s 16s/step - loss: 0.6445 - accuracy: 0.7475 - val_loss: 1.0404 - val_accuracy: 0.6350\n",
      "Epoch 36/50\n",
      "1/1 [==============================] - 15s 15s/step - loss: 0.6160 - accuracy: 0.7925 - val_loss: 1.0646 - val_accuracy: 0.6250\n",
      "Epoch 37/50\n",
      "1/1 [==============================] - 15s 15s/step - loss: 0.5964 - accuracy: 0.7987 - val_loss: 1.1235 - val_accuracy: 0.6150\n",
      "Epoch 38/50\n",
      "1/1 [==============================] - 15s 15s/step - loss: 0.5824 - accuracy: 0.7812 - val_loss: 1.0739 - val_accuracy: 0.6550\n",
      "Epoch 39/50\n",
      "1/1 [==============================] - 16s 16s/step - loss: 0.5743 - accuracy: 0.7900 - val_loss: 1.0966 - val_accuracy: 0.6250\n",
      "Epoch 40/50\n",
      "1/1 [==============================] - 16s 16s/step - loss: 0.5383 - accuracy: 0.8100 - val_loss: 1.0988 - val_accuracy: 0.6300\n",
      "Epoch 41/50\n",
      "1/1 [==============================] - 18s 18s/step - loss: 0.5230 - accuracy: 0.8163 - val_loss: 1.0773 - val_accuracy: 0.6500\n",
      "Epoch 42/50\n",
      "1/1 [==============================] - 16s 16s/step - loss: 0.5164 - accuracy: 0.8163 - val_loss: 1.1977 - val_accuracy: 0.6050\n",
      "Epoch 43/50\n",
      "1/1 [==============================] - 16s 16s/step - loss: 0.4973 - accuracy: 0.8138 - val_loss: 1.1278 - val_accuracy: 0.6450\n",
      "Epoch 44/50\n",
      "1/1 [==============================] - 16s 16s/step - loss: 0.4665 - accuracy: 0.8450 - val_loss: 1.1321 - val_accuracy: 0.6500\n",
      "Epoch 45/50\n",
      "1/1 [==============================] - 15s 15s/step - loss: 0.4495 - accuracy: 0.8500 - val_loss: 1.2111 - val_accuracy: 0.6000\n",
      "Epoch 46/50\n",
      "1/1 [==============================] - 15s 15s/step - loss: 0.4406 - accuracy: 0.8350 - val_loss: 1.1619 - val_accuracy: 0.6600\n",
      "Epoch 47/50\n",
      "1/1 [==============================] - 15s 15s/step - loss: 0.4292 - accuracy: 0.8575 - val_loss: 1.2143 - val_accuracy: 0.6400\n",
      "Epoch 48/50\n",
      "1/1 [==============================] - 15s 15s/step - loss: 0.4020 - accuracy: 0.8650 - val_loss: 1.2347 - val_accuracy: 0.6200\n",
      "Epoch 49/50\n",
      "1/1 [==============================] - 15s 15s/step - loss: 0.3925 - accuracy: 0.8725 - val_loss: 1.1986 - val_accuracy: 0.6550\n",
      "Epoch 50/50\n",
      "1/1 [==============================] - 15s 15s/step - loss: 0.3873 - accuracy: 0.8712 - val_loss: 1.3244 - val_accuracy: 0.6350\n"
     ]
    },
    {
     "data": {
      "image/png": "[encoded data removed]",
      "text/plain": [
       "<Figure size 640x480 with 1 Axes>"
      ]
     },
     "metadata": {},
     "output_type": "display_data"
    }
   ],
   "source": [
    "# modify the model architecture to cmnn\n",
    "cnn_model = Sequential([\n",
    " Conv2D(filters=16 ,kernel_size=(3,3), activation='relu', input_shape=(128,128,3)),\n",
    " MaxPooling2D(pool_size=(2,2)),\n",
    " Conv2D(32, (3,3), activation='relu'),\n",
    " MaxPooling2D(pool_size=(2,2)),\n",
    " Conv2D(64, (3,3), activation='relu'),\n",
    " MaxPooling2D(pool_size=(2,2)),\n",
    " Flatten(),\n",
    " Dense(128, activation='relu'),\n",
    " Dense(5, activation='softmax')\n",
    "])\n",
    "# Compile the model\n",
    "cnn_model.compile(optimizer='adam', loss='sparse_categorical_crossentropy', metrics=['accuracy'])\n",
    "# Train the model\n",
    "history = cnn_model.fit(x_train, y_train, batch_size=1000, epochs=50,validation_data=(x_test, y_test))\n",
    "# Plot the obtained loss\n",
    "plt.plot(history.history['loss'])\n",
    "plt.plot(history.history['val_loss'])\n",
    "plt.title('Model Loss')\n",
    "plt.ylabel('Loss')\n",
    "plt.xlabel('Epoch')\n",
    "plt.legend(['Train', 'Validation'], loc='upper right')\n",
    "plt.show()"
   ]
  },
  {
   "cell_type": "code",
   "execution_count": 49,
   "metadata": {
    "colab": {
     "base_uri": "https://localhost:8080/"
    },
    "id": "NJ0GISQREbPn",
    "outputId": "f1c1eb63-57ed-4cec-e370-bb30bd31829b"
   },
   "outputs": [
    {
     "name": "stdout",
     "output_type": "stream",
     "text": [
      "7/7 [==============================] - 1s 153ms/step - loss: 1.3245 - accuracy: 0.6350\n"
     ]
    },
    {
     "data": {
      "text/plain": [
       "[1.3244500160217285, 0.6349999904632568]"
      ]
     },
     "execution_count": 49,
     "metadata": {},
     "output_type": "execute_result"
    }
   ],
   "source": [
    "cnn_model.evaluate(x_test,y_test)"
   ]
  },
  {
   "cell_type": "code",
   "execution_count": 50,
   "metadata": {
    "colab": {
     "base_uri": "https://localhost:8080/",
     "height": 905
    },
    "id": "0T_zkCANEdvn",
    "outputId": "f3a0ebcb-cc38-4015-8166-1c2f7a57879f"
   },
   "outputs": [
    {
     "data": {
      "image/png": "[encoded data removed]",
      "text/plain": [
       "<Figure size 1000x200 with 1 Axes>"
      ]
     },
     "metadata": {},
     "output_type": "display_data"
    },
    {
     "data": {
      "image/png": "[encoded data removed]",
      "text/plain": [
       "<Figure size 1000x200 with 1 Axes>"
      ]
     },
     "metadata": {},
     "output_type": "display_data"
    },
    {
     "data": {
      "image/png": "[encoded data removed]",
      "text/plain": [
       "<Figure size 1000x200 with 1 Axes>"
      ]
     },
     "metadata": {},
     "output_type": "display_data"
    },
    {
     "data": {
      "image/png": "[encoded data removed]",
      "text/plain": [
       "<Figure size 1000x200 with 1 Axes>"
      ]
     },
     "metadata": {},
     "output_type": "display_data"
    }
   ],
   "source": [
    "image_sample(x_test,y_test,1)\n",
    "image_sample(x_test,y_test,50)\n",
    "image_sample(x_test,y_test,25)\n",
    "image_sample(x_test,y_test,30)"
   ]
  },
  {
   "cell_type": "code",
   "execution_count": 51,
   "metadata": {
    "id": "qbkV8MzyEhyQ"
   },
   "outputs": [],
   "source": [
    "# Observation: we can see some wrong predictions"
   ]
  },
  {
   "cell_type": "code",
   "execution_count": 52,
   "metadata": {
    "colab": {
     "base_uri": "https://localhost:8080/"
    },
    "id": "jNGe3KdIEjOo",
    "outputId": "26cf8366-94f9-4220-a488-e6dd67127d54"
   },
   "outputs": [
    {
     "name": "stdout",
     "output_type": "stream",
     "text": [
      "7/7 [==============================] - 1s 118ms/step\n"
     ]
    },
    {
     "data": {
      "text/plain": [
       "array([[3.85207057e-01, 3.01603526e-01, 2.46771321e-01, 8.36741645e-03,\n",
       "        5.80506139e-02],\n",
       "       [1.23114601e-01, 6.35309289e-06, 8.61166482e-05, 3.45792813e-07,\n",
       "        8.76792550e-01],\n",
       "       [1.84567243e-01, 1.04105944e-04, 6.74622948e-04, 8.06209573e-05,\n",
       "        8.14573348e-01],\n",
       "       [2.17862598e-05, 3.97842603e-09, 8.20428395e-05, 3.88865192e-06,\n",
       "        9.99892175e-01],\n",
       "       [3.24503511e-01, 4.59819049e-01, 1.56901747e-01, 8.08333512e-03,\n",
       "        5.06924689e-02]], dtype=float32)"
      ]
     },
     "execution_count": 52,
     "metadata": {},
     "output_type": "execute_result"
    }
   ],
   "source": [
    "y_pred = cnn_model.predict(x_test)\n",
    "y_pred[:5]"
   ]
  },
  {
   "cell_type": "code",
   "execution_count": 53,
   "metadata": {
    "colab": {
     "base_uri": "https://localhost:8080/"
    },
    "id": "0c6uZKFrElco",
    "outputId": "4f25dff5-3c7f-457d-ce65-e7b6f1e2667d"
   },
   "outputs": [
    {
     "data": {
      "text/plain": [
       "[0, 4, 4, 4, 1]"
      ]
     },
     "execution_count": 53,
     "metadata": {},
     "output_type": "execute_result"
    }
   ],
   "source": [
    "\n",
    "y_classes = [np.argmax(element) for element in y_pred]\n",
    "y_classes[:5]"
   ]
  },
  {
   "cell_type": "code",
   "execution_count": 54,
   "metadata": {
    "colab": {
     "base_uri": "https://localhost:8080/"
    },
    "id": "ikfgBFAsEm8p",
    "outputId": "919b049a-cc28-460e-b409-9787a064fecb"
   },
   "outputs": [
    {
     "data": {
      "text/plain": [
       "array([0, 4, 4, 4, 0])"
      ]
     },
     "execution_count": 54,
     "metadata": {},
     "output_type": "execute_result"
    }
   ],
   "source": [
    "y_test[:5]\n"
   ]
  },
  {
   "cell_type": "code",
   "execution_count": 55,
   "metadata": {
    "id": "g_aqwUO2Eowi"
   },
   "outputs": [],
   "source": [
    "# here we see some values are not matching"
   ]
  },
  {
   "cell_type": "code",
   "execution_count": 56,
   "metadata": {
    "colab": {
     "base_uri": "https://localhost:8080/",
     "height": 258
    },
    "id": "Vq29hoaQEqag",
    "outputId": "6e45184e-578e-4b31-a951-00411ff6ecd3"
   },
   "outputs": [
    {
     "data": {
      "application/vnd.google.colaboratory.intrinsic+json": {
       "type": "string"
      },
      "text/plain": [
       "'dot_line'"
      ]
     },
     "execution_count": 56,
     "metadata": {},
     "output_type": "execute_result"
    },
    {
     "data": {
      "image/png": "[encoded data removed]",
      "text/plain": [
       "<Figure size 1000x200 with 1 Axes>"
      ]
     },
     "metadata": {},
     "output_type": "display_data"
    }
   ],
   "source": [
    "# test actual and predicted\n",
    "# image_sample(x_test,y_test,1) #actual\n",
    "# image_classes[y_classes[1]] #predicted\n",
    "# image_sample(x_test,y_test,10) #actual\n",
    "# image_classes[y_classes[10]] #predicted\n",
    "image_sample(x_test,y_test,15) #actual\n",
    "image_classes[y_classes[15]] #predicted"
   ]
  },
  {
   "cell_type": "code",
   "execution_count": 57,
   "metadata": {
    "id": "xSJK51twEsi5"
   },
   "outputs": [],
   "source": [
    "\n",
    "# some values are not matching"
   ]
  },
  {
   "cell_type": "code",
   "execution_count": 58,
   "metadata": {
    "colab": {
     "base_uri": "https://localhost:8080/"
    },
    "id": "lb1L_xi3EuTA",
    "outputId": "256f37ed-1d24-4cb6-a1da-8d13bc53812a"
   },
   "outputs": [
    {
     "name": "stdout",
     "output_type": "stream",
     "text": [
      "classification report: \n",
      "               precision    recall  f1-score   support\n",
      "\n",
      "           0       0.58      0.57      0.58        37\n",
      "           1       0.89      0.75      0.81        44\n",
      "           2       0.73      0.33      0.46        48\n",
      "           3       0.42      0.67      0.51        33\n",
      "           4       0.67      0.92      0.78        38\n",
      "\n",
      "    accuracy                           0.64       200\n",
      "   macro avg       0.66      0.65      0.63       200\n",
      "weighted avg       0.68      0.64      0.63       200\n",
      "\n"
     ]
    }
   ],
   "source": [
    "\n",
    "print(\"classification report: \\n\", classification_report(y_test,y_classes))\n"
   ]
  },
  {
   "cell_type": "code",
   "execution_count": 59,
   "metadata": {
    "colab": {
     "base_uri": "https://localhost:8080/"
    },
    "id": "IQHt09WqEwqo",
    "outputId": "04169945-6d2b-45e2-c274-4db6f14bf63a"
   },
   "outputs": [
    {
     "name": "stdout",
     "output_type": "stream",
     "text": [
      "Confusion Matrix:\n",
      "[[21  4  1  2  9]\n",
      " [ 2 33  0  6  3]\n",
      " [ 9  0 16 22  1]\n",
      " [ 2  0  5 22  4]\n",
      " [ 2  0  0  1 35]]\n"
     ]
    }
   ],
   "source": [
    "# Generate the confusion matrix\n",
    "confsnMatrix = confusion_matrix(y_test, y_classes)\n",
    "print('Confusion Matrix:')\n",
    "print(confsnMatrix)"
   ]
  },
  {
   "cell_type": "code",
   "execution_count": 60,
   "metadata": {
    "colab": {
     "base_uri": "https://localhost:8080/",
     "height": 872
    },
    "id": "vpKJUky8Eysa",
    "outputId": "6c2f0439-75f9-43ca-92e4-5d44b5a078fc"
   },
   "outputs": [
    {
     "data": {
      "text/plain": [
       "Text(95.72222222222221, 0.5, 'Actual')"
      ]
     },
     "execution_count": 60,
     "metadata": {},
     "output_type": "execute_result"
    },
    {
     "data": {
      "image/png": "[encoded data removed]",
      "text/plain": [
       "<Figure size 1000x1000 with 2 Axes>"
      ]
     },
     "metadata": {},
     "output_type": "display_data"
    }
   ],
   "source": [
    "# Plot the confusion matrix\n",
    "import seaborn as sn\n",
    "plt.figure(figsize = (10,10))\n",
    "sn.heatmap(confsnMatrix,annot=True,fmt='d')\n",
    "plt.xlabel('Predicted')\n",
    "plt.ylabel('Actual')\n"
   ]
  },
  {
   "cell_type": "code",
   "execution_count": 61,
   "metadata": {
    "id": "sbv0_IOZE1q5"
   },
   "outputs": [],
   "source": [
    "# for 50 iterations, we can see some promising accuracy, more training will be required for better accuracy\n",
    "# in the confusion matrix, whatever is not in diagonal is a error"
   ]
  },
  {
   "cell_type": "code",
   "execution_count": 71,
   "metadata": {
    "id": "T-y61MXPE34z"
   },
   "outputs": [],
   "source": [
    "from keras.applications import VGG16\n",
    "from keras.preprocessing.image import ImageDataGenerator\n",
    "# Load the pre-trained model\n",
    "vgg16_model = VGG16(weights='imagenet', include_top=False, input_shape=(224, 224, 3))"
   ]
  },
  {
   "cell_type": "code",
   "execution_count": 63,
   "metadata": {
    "id": "MHnhhGtaE54C"
   },
   "outputs": [],
   "source": [
    "# Replace the final classification layer with a new layer\n",
    "x = vgg16_model.output\n",
    "x = GlobalAveragePooling2D()(x)\n",
    "x = Dense(128, activation='relu')(x)\n",
    "predictions = Dense(5, activation='softmax')(x)\n",
    "pt_model = tf.keras.Model(inputs=vgg16_model.input, outputs=predictions)"
   ]
  },
  {
   "cell_type": "code",
   "execution_count": 64,
   "metadata": {
    "id": "_yBnaiwfE7jZ"
   },
   "outputs": [],
   "source": [
    "# Freeze the weights of all layers except the new classification layer\n",
    "for layer in pt_model.layers:\n",
    " layer.trainable = False\n"
   ]
  },
  {
   "cell_type": "code",
   "execution_count": 65,
   "metadata": {
    "id": "kV9QWZkfE9IU"
   },
   "outputs": [],
   "source": [
    "# Compile the model with categorical crossentropy loss and Adam optimizer\n",
    "pt_model.compile(loss='categorical_crossentropy', optimizer='adam', metrics=['accuracy'])"
   ]
  },
  {
   "cell_type": "code",
   "execution_count": 66,
   "metadata": {
    "colab": {
     "base_uri": "https://localhost:8080/"
    },
    "id": "BNoSrRuwE_IZ",
    "outputId": "b54e57eb-67e6-42f5-8c62-6ced66548731"
   },
   "outputs": [
    {
     "name": "stdout",
     "output_type": "stream",
     "text": [
      "Model: \"model\"\n",
      "_________________________________________________________________\n",
      " Layer (type)                Output Shape              Param #   \n",
      "=================================================================\n",
      " input_1 (InputLayer)        [(None, 224, 224, 3)]     0         \n",
      "                                                                 \n",
      " block1_conv1 (Conv2D)       (None, 224, 224, 64)      1792      \n",
      "                                                                 \n",
      " block1_conv2 (Conv2D)       (None, 224, 224, 64)      36928     \n",
      "                                                                 \n",
      " block1_pool (MaxPooling2D)  (None, 112, 112, 64)      0         \n",
      "                                                                 \n",
      " block2_conv1 (Conv2D)       (None, 112, 112, 128)     73856     \n",
      "                                                                 \n",
      " block2_conv2 (Conv2D)       (None, 112, 112, 128)     147584    \n",
      "                                                                 \n",
      " block2_pool (MaxPooling2D)  (None, 56, 56, 128)       0         \n",
      "                                                                 \n",
      " block3_conv1 (Conv2D)       (None, 56, 56, 256)       295168    \n",
      "                                                                 \n",
      " block3_conv2 (Conv2D)       (None, 56, 56, 256)       590080    \n",
      "                                                                 \n",
      " block3_conv3 (Conv2D)       (None, 56, 56, 256)       590080    \n",
      "                                                                 \n",
      " block3_pool (MaxPooling2D)  (None, 28, 28, 256)       0         \n",
      "                                                                 \n",
      " block4_conv1 (Conv2D)       (None, 28, 28, 512)       1180160   \n",
      "                                                                 \n",
      " block4_conv2 (Conv2D)       (None, 28, 28, 512)       2359808   \n",
      "                                                                 \n",
      " block4_conv3 (Conv2D)       (None, 28, 28, 512)       2359808   \n",
      "                                                                 \n",
      " block4_pool (MaxPooling2D)  (None, 14, 14, 512)       0         \n",
      "                                                                 \n",
      " block5_conv1 (Conv2D)       (None, 14, 14, 512)       2359808   \n",
      "                                                                 \n",
      " block5_conv2 (Conv2D)       (None, 14, 14, 512)       2359808   \n",
      "                                                                 \n",
      " block5_conv3 (Conv2D)       (None, 14, 14, 512)       2359808   \n",
      "                                                                 \n",
      " block5_pool (MaxPooling2D)  (None, 7, 7, 512)         0         \n",
      "                                                                 \n",
      " global_average_pooling2d (G  (None, 512)              0         \n",
      " lobalAveragePooling2D)                                          \n",
      "                                                                 \n",
      " dense_5 (Dense)             (None, 128)               65664     \n",
      "                                                                 \n",
      " dense_6 (Dense)             (None, 5)                 645       \n",
      "                                                                 \n",
      "=================================================================\n",
      "Total params: 14,780,997\n",
      "Trainable params: 0\n",
      "Non-trainable params: 14,780,997\n",
      "_________________________________________________________________\n"
     ]
    }
   ],
   "source": [
    "# Print the summary of the model architecture\n",
    "pt_model.summary()"
   ]
  },
  {
   "cell_type": "code",
   "execution_count": 67,
   "metadata": {
    "id": "mI0H-YjPFBpx"
   },
   "outputs": [],
   "source": [
    "# Set up data generators for image augmentation and feeding data to the model\n",
    "dataGenerTrain = ImageDataGenerator(\n",
    " rescale=1./255,\n",
    " rotation_range=20,\n",
    " width_shift_range=0.2,\n",
    " height_shift_range=0.2,\n",
    " shear_range=0.2,\n",
    " zoom_range=0.2,\n",
    " horizontal_flip=True,\n",
    " fill_mode='nearest')\n",
    "dataGenTest = ImageDataGenerator(rescale=1./255)"
   ]
  },
  {
   "cell_type": "code",
   "execution_count": 68,
   "metadata": {
    "id": "XHtB4-RJFD2p"
   },
   "outputs": [],
   "source": [
    "\n",
    "# flow method generates batches of augmented data\n",
    "train_generator = dataGenerTrain.flow(x_train, y_train, batch_size=32)\n",
    "test_generator = dataGenerTrain.flow(x_test, y_test, batch_size=32)"
   ]
  },
  {
   "cell_type": "code",
   "execution_count": 105,
   "metadata": {
    "id": "85OOuMjqFF48"
   },
   "outputs": [],
   "source": [
    "# Train the model with early stopping\n",
    "from keras.callbacks import EarlyStopping\n",
    "es = EarlyStopping(monitor='val_loss', patience=10, verbose=1, mode='min', restore_best_weights=True)\n",
    "history = pt_model.fit(train_generator, epochs=100, validation_data=test_generator, callbacks=[es])"
   ]
  }
 ],
 "metadata": {
  "colab": {
   "provenance": []
  },
  "kernelspec": {
   "display_name": "Python 3 (ipykernel)",
   "language": "python",
   "name": "python3"
  },
  "language_info": {
   "codemirror_mode": {
    "name": "ipython",
    "version": 3
   },
   "file_extension": ".py",
   "mimetype": "text/x-python",
   "name": "python",
   "nbconvert_exporter": "python",
   "pygments_lexer": "ipython3",
   "version": "3.9.13"
  }
 },
 "nbformat": 4,
 "nbformat_minor": 1
}
